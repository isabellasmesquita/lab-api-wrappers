{
 "cells": [
  {
   "cell_type": "markdown",
   "id": "bd0a3905-b346-43d5-9791-d3869299eb9d",
   "metadata": {},
   "source": [
    "# API wrappers"
   ]
  },
  {
   "cell_type": "markdown",
   "id": "327b4075-5374-4ecf-b8c5-c106d20d80e1",
   "metadata": {},
   "source": [
    "The OpenWeatherMap offers REST endpoints for querying current weather, forecasts, historical data, etc. However, accessing this data directly via the REST API requires handling multiple API calls, query parameters, and response parsing. The pyowm library abstracts these complexities and provides useful built-in functionalities."
   ]
  },
  {
   "cell_type": "markdown",
   "id": "1d731d49-fd79-44c8-8f72-68194c99fec0",
   "metadata": {},
   "source": [
    "After signing in to OpenWeatherMap retrieve your api key at https://home.openweathermap.org/api_keys\n",
    "\n",
    "You will also need to install the pyowm package: pip install pyowm "
   ]
  },
  {
   "cell_type": "code",
   "execution_count": 1,
   "id": "63b327b1-338b-4b14-a5b5-1bd8741da64b",
   "metadata": {},
   "outputs": [],
   "source": [
    "import requests\n",
    "import pyowm\n",
    "import json\n",
    "\n",
    "api_key = '7d6163678299ac4e90ed1434d81ca873'"
   ]
  },
  {
   "cell_type": "markdown",
   "id": "f73d3029-c6a6-43b9-81a9-0e81c13bdf09",
   "metadata": {},
   "source": [
    "## use case 1: managing API keys\n",
    "\n",
    "In a raw rest API call you always have to manage credentials in each individual call. Wrappers usually store and manage the authentication for you"
   ]
  },
  {
   "cell_type": "code",
   "execution_count": 3,
   "id": "afbcdf71-845e-4aae-b8cc-8963745f7d4b",
   "metadata": {},
   "outputs": [
    {
     "data": {
      "text/plain": [
       "{'cod': 401,\n",
       " 'message': 'Invalid API key. Please see https://openweathermap.org/faq#error401 for more info.'}"
      ]
     },
     "execution_count": 3,
     "metadata": {},
     "output_type": "execute_result"
    }
   ],
   "source": [
    "#You can get current weather data by making a GET request to an endpoint like:\n",
    "\n",
    "params = {\n",
    "    '7d6163678299ac4e90ed1434d81ca873' : api_key\n",
    "}\n",
    "\n",
    "response = requests.get('https://api.openweathermap.org/data/2.5/weather?q=London', params = params)\n",
    "\n",
    "json.loads(response.text)\n",
    "\n",
    "#but for every call you make using GET from now on you do need to add the parameters, since the raw API does not manage authentication for you"
   ]
  },
  {
   "cell_type": "markdown",
   "id": "b82c585b-fd83-4f59-9d46-14225f3e5037",
   "metadata": {},
   "source": [
    "Most wrappers (pyowm included) include some way of initializing a session with the authentication key that you then don't need to type again.\n",
    "\n",
    "Initialize pyowm with the default configuration. Thenopen the weather manager\n",
    "\n",
    "Check out a snippet here: https://pyowm.readthedocs.io/en/latest/v3/code-recipes.html#weather_data"
   ]
  },
  {
   "cell_type": "code",
   "execution_count": null,
   "id": "f376d466-5a69-4a47-b35d-1870cbef61ff",
   "metadata": {},
   "outputs": [
    {
     "name": "stdout",
     "output_type": "stream",
     "text": [
      "{\n",
      "    \"coord\": {\n",
      "        \"lon\": -0.1257,\n",
      "        \"lat\": 51.5085\n",
      "    },\n",
      "    \"weather\": [\n",
      "        {\n",
      "            \"id\": 800,\n",
      "            \"main\": \"Clear\",\n",
      "            \"description\": \"clear sky\",\n",
      "            \"icon\": \"01d\"\n",
      "        }\n",
      "    ],\n",
      "    \"base\": \"stations\",\n",
      "    \"main\": {\n",
      "        \"temp\": 9.86,\n",
      "        \"feels_like\": 8.29,\n",
      "        \"temp_min\": 8.49,\n",
      "        \"temp_max\": 11.12,\n",
      "        \"pressure\": 1016,\n",
      "        \"humidity\": 70,\n",
      "        \"sea_level\": 1016,\n",
      "        \"grnd_level\": 1012\n",
      "    },\n",
      "    \"visibility\": 10000,\n",
      "    \"wind\": {\n",
      "        \"speed\": 3.09,\n",
      "        \"deg\": 260\n",
      "    },\n",
      "    \"clouds\": {\n",
      "        \"all\": 4\n",
      "    },\n",
      "    \"dt\": 1732632766,\n",
      "    \"sys\": {\n",
      "        \"type\": 2,\n",
      "        \"id\": 2075535,\n",
      "        \"country\": \"GB\",\n",
      "        \"sunrise\": 1732606632,\n",
      "        \"sunset\": 1732636740\n",
      "    },\n",
      "    \"timezone\": 0,\n",
      "    \"id\": 2643743,\n",
      "    \"name\": \"London\",\n",
      "    \"cod\": 200\n",
      "}\n"
     ]
    }
   ],
   "source": [
    "import requests\n",
    "import json\n",
    "\n",
    "api_key = \"7d6163678299ac4e90ed1434d81ca873\"\n",
    "\n",
    "params = {\n",
    "    \"appid\": api_key,\n",
    "    \"q\": \"London\",      \n",
    "    \"units\": \"metric\"   \n",
    "}\n",
    "\n",
    "url = \"https://api.openweathermap.org/data/2.5/weather\"\n",
    "\n",
    "response = requests.get(url, params=params)\n",
    "\n",
    "if response.status_code == 200:\n",
    "    data = response.json()\n",
    "    print(json.dumps(data, indent=4))  \n",
    "else:\n",
    "    print(f\"Error {response.status_code}: {response.json().get('message', 'Unknown error')}\")"
   ]
  },
  {
   "cell_type": "markdown",
   "id": "840060e4-d3de-4b96-bb03-5bce02003f1d",
   "metadata": {},
   "source": [
    "## use case 2: Simplified calls\n",
    "\n",
    "With the raw REST API, you'd have to build a URL manually, send the request, and parse the JSON response to get the current weather."
   ]
  },
  {
   "cell_type": "code",
   "execution_count": 5,
   "id": "a2aa8395-0bed-4098-8881-0ffe93541b1f",
   "metadata": {},
   "outputs": [
    {
     "name": "stdout",
     "output_type": "stream",
     "text": [
      "Temperature: 9.85°C, Humidity: 70%, Wind Speed: 3.09 m/s\n"
     ]
    }
   ],
   "source": [
    "city = 'London'\n",
    "url = f'http://api.openweathermap.org/data/2.5/weather?q={city}'\n",
    "\n",
    "response = requests.get(url,params= params)\n",
    "data = response.json()\n",
    "temperature = data['main']['temp']\n",
    "humidity = data['main']['humidity']\n",
    "wind_speed = data['wind']['speed']\n",
    "\n",
    "print(f\"Temperature: {temperature}°C, Humidity: {humidity}%, Wind Speed: {wind_speed} m/s\")"
   ]
  },
  {
   "cell_type": "markdown",
   "id": "df5bc6df-bfb2-416d-8d06-3961d3a12234",
   "metadata": {},
   "source": [
    "Get the equivalent call as above for the city of London using the pyowm package"
   ]
  },
  {
   "cell_type": "code",
   "execution_count": null,
   "id": "d1986770-4628-480b-b587-9ff5c42d301c",
   "metadata": {},
   "outputs": [
    {
     "name": "stdout",
     "output_type": "stream",
     "text": [
      "Temperature: 9.87°C, Humidity: 70%, Wind Speed: 3.09 m/s\n"
     ]
    }
   ],
   "source": [
    "from pyowm.owm import OWM\n",
    "\n",
    "owm = OWM(api_key)\n",
    "weather_mgr = owm.weather_manager()\n",
    "\n",
    "observation = weather_mgr.weather_at_place(\"London\")\n",
    "weather = observation.weather\n",
    "\n",
    "temperature = weather.temperature('celsius')['temp']\n",
    "humidity = weather.humidity\n",
    "wind_speed = weather.wind()['speed']\n",
    "\n",
    "print(f\"Temperature: {temperature}°C, Humidity: {humidity}%, Wind Speed: {wind_speed} m/s\")"
   ]
  },
  {
   "cell_type": "markdown",
   "id": "7e7b93b2-c383-4e49-8fce-a0923ac59031",
   "metadata": {},
   "source": [
    "## use case 3: Combining and chaining calls\n",
    "\n",
    "Wrappers often offer methods that make multiple calls to batch requests that make sense to batch. And often they offer methods that make sequences of calls that each returns information necessary to make the next call."
   ]
  },
  {
   "cell_type": "markdown",
   "id": "8f4a6b6c-f397-48ce-a3ef-f88e1fb95eb9",
   "metadata": {},
   "source": [
    "For example, to get a weather forecast for a specific city using the raw API you need to first geocode the city to get its latitude and longitude:"
   ]
  },
  {
   "cell_type": "code",
   "execution_count": 7,
   "id": "d182cf31-80f8-4b61-8de0-897d2d6479d7",
   "metadata": {},
   "outputs": [],
   "source": [
    "city = 'New York'\n",
    "geocode_url = f'http://api.openweathermap.org/data/2.5/weather?q={city}'\n",
    "geocode_response = requests.get(geocode_url,params=params).json()\n",
    "\n",
    "lat = geocode_response['coord']['lat']\n",
    "lon = geocode_response['coord']['lon']"
   ]
  },
  {
   "cell_type": "markdown",
   "id": "547c5deb-1070-4b72-b035-32ea5a615eda",
   "metadata": {},
   "source": [
    "Then, request the weather forecast for that latitude/longitude:"
   ]
  },
  {
   "cell_type": "code",
   "execution_count": 8,
   "id": "03737eff-cbc6-412f-b6a1-03e28b39b1e4",
   "metadata": {},
   "outputs": [
    {
     "name": "stdout",
     "output_type": "stream",
     "text": [
      "Time: 2024-11-26 18:00:00, Temp: 9.21°C\n",
      "Time: 2024-11-26 21:00:00, Temp: 8.6°C\n",
      "Time: 2024-11-27 00:00:00, Temp: 7.39°C\n",
      "Time: 2024-11-27 03:00:00, Temp: 7.75°C\n",
      "Time: 2024-11-27 06:00:00, Temp: 9.15°C\n",
      "Time: 2024-11-27 09:00:00, Temp: 5.61°C\n",
      "Time: 2024-11-27 12:00:00, Temp: 6.5°C\n",
      "Time: 2024-11-27 15:00:00, Temp: 6.38°C\n",
      "Time: 2024-11-27 18:00:00, Temp: 5.35°C\n",
      "Time: 2024-11-27 21:00:00, Temp: 4.44°C\n",
      "Time: 2024-11-28 00:00:00, Temp: 3.83°C\n",
      "Time: 2024-11-28 03:00:00, Temp: 3.49°C\n",
      "Time: 2024-11-28 06:00:00, Temp: 3.2°C\n",
      "Time: 2024-11-28 09:00:00, Temp: 3.66°C\n",
      "Time: 2024-11-28 12:00:00, Temp: 6.22°C\n",
      "Time: 2024-11-28 15:00:00, Temp: 6.21°C\n",
      "Time: 2024-11-28 18:00:00, Temp: 4.76°C\n",
      "Time: 2024-11-28 21:00:00, Temp: 4.54°C\n",
      "Time: 2024-11-29 00:00:00, Temp: 4.76°C\n",
      "Time: 2024-11-29 03:00:00, Temp: 4.9°C\n",
      "Time: 2024-11-29 06:00:00, Temp: 5.13°C\n",
      "Time: 2024-11-29 09:00:00, Temp: 6.07°C\n",
      "Time: 2024-11-29 12:00:00, Temp: 8.2°C\n",
      "Time: 2024-11-29 15:00:00, Temp: 7.99°C\n",
      "Time: 2024-11-29 18:00:00, Temp: 7.23°C\n",
      "Time: 2024-11-29 21:00:00, Temp: 7.22°C\n",
      "Time: 2024-11-30 00:00:00, Temp: 7.18°C\n",
      "Time: 2024-11-30 03:00:00, Temp: 6.95°C\n",
      "Time: 2024-11-30 06:00:00, Temp: 6.63°C\n",
      "Time: 2024-11-30 09:00:00, Temp: 7.41°C\n",
      "Time: 2024-11-30 12:00:00, Temp: 9.65°C\n",
      "Time: 2024-11-30 15:00:00, Temp: 9.49°C\n",
      "Time: 2024-11-30 18:00:00, Temp: 8.48°C\n",
      "Time: 2024-11-30 21:00:00, Temp: 7.65°C\n",
      "Time: 2024-12-01 00:00:00, Temp: 8.37°C\n",
      "Time: 2024-12-01 03:00:00, Temp: 8.09°C\n",
      "Time: 2024-12-01 06:00:00, Temp: 9.17°C\n",
      "Time: 2024-12-01 09:00:00, Temp: 9.49°C\n",
      "Time: 2024-12-01 12:00:00, Temp: 12.12°C\n",
      "Time: 2024-12-01 15:00:00, Temp: 11.63°C\n"
     ]
    }
   ],
   "source": [
    "forecast_url = f'http://api.openweathermap.org/data/2.5/forecast?lat={lat}&lon={lon}'\n",
    "forecast_response = requests.get(forecast_url, params=params).json()\n",
    "\n",
    "for entry in forecast_response['list']:\n",
    "    print(f\"Time: {entry['dt_txt']}, Temp: {entry['main']['temp']}°C\")"
   ]
  },
  {
   "cell_type": "markdown",
   "id": "f75ab558-7500-40fa-a4aa-93a18053059a",
   "metadata": {},
   "source": [
    "Two calls: one for geocoding, one for forecasts.\n",
    "But with pyowm, because this is a common operation, there is a method that handles the geocoding internally and then fetches the weather forecast in one step.\n",
    "\n",
    "Get the above forecast in a single call using pyowm.\n",
    "\n",
    "Hint: search for \"forecast_at_place\" in the code recipies of the documentation"
   ]
  },
  {
   "cell_type": "code",
   "execution_count": null,
   "id": "11e3c1a8-260d-467c-8f47-793fd62a239b",
   "metadata": {},
   "outputs": [
    {
     "name": "stdout",
     "output_type": "stream",
     "text": [
      "Time: 2024-11-26 15:00:00+00:00, Temp: 11.74°C\n",
      "Time: 2024-11-26 18:00:00+00:00, Temp: 12.16°C\n",
      "Time: 2024-11-26 21:00:00+00:00, Temp: 11.99°C\n",
      "Time: 2024-11-27 00:00:00+00:00, Temp: 9.02°C\n",
      "Time: 2024-11-27 03:00:00+00:00, Temp: 7.72°C\n",
      "Time: 2024-11-27 06:00:00+00:00, Temp: 6.64°C\n",
      "Time: 2024-11-27 09:00:00+00:00, Temp: 5.85°C\n",
      "Time: 2024-11-27 12:00:00+00:00, Temp: 5.14°C\n",
      "Time: 2024-11-27 15:00:00+00:00, Temp: 6.91°C\n",
      "Time: 2024-11-27 18:00:00+00:00, Temp: 9.11°C\n",
      "Time: 2024-11-27 21:00:00+00:00, Temp: 9.51°C\n",
      "Time: 2024-11-28 00:00:00+00:00, Temp: 8.97°C\n",
      "Time: 2024-11-28 03:00:00+00:00, Temp: 8.9°C\n",
      "Time: 2024-11-28 06:00:00+00:00, Temp: 8.86°C\n",
      "Time: 2024-11-28 09:00:00+00:00, Temp: 8.54°C\n",
      "Time: 2024-11-28 12:00:00+00:00, Temp: 7.14°C\n",
      "Time: 2024-11-28 15:00:00+00:00, Temp: 7.54°C\n",
      "Time: 2024-11-28 18:00:00+00:00, Temp: 8.08°C\n",
      "Time: 2024-11-28 21:00:00+00:00, Temp: 7.18°C\n",
      "Time: 2024-11-29 00:00:00+00:00, Temp: 6.46°C\n",
      "Time: 2024-11-29 03:00:00+00:00, Temp: 6.05°C\n",
      "Time: 2024-11-29 06:00:00+00:00, Temp: 6.13°C\n",
      "Time: 2024-11-29 09:00:00+00:00, Temp: 6.1°C\n",
      "Time: 2024-11-29 12:00:00+00:00, Temp: 6.07°C\n",
      "Time: 2024-11-29 15:00:00+00:00, Temp: 6.65°C\n",
      "Time: 2024-11-29 18:00:00+00:00, Temp: 8.38°C\n",
      "Time: 2024-11-29 21:00:00+00:00, Temp: 8.59°C\n",
      "Time: 2024-11-30 00:00:00+00:00, Temp: 7.22°C\n",
      "Time: 2024-11-30 03:00:00+00:00, Temp: 5.24°C\n",
      "Time: 2024-11-30 06:00:00+00:00, Temp: 3.83°C\n",
      "Time: 2024-11-30 09:00:00+00:00, Temp: 2.71°C\n",
      "Time: 2024-11-30 12:00:00+00:00, Temp: 1.95°C\n",
      "Time: 2024-11-30 15:00:00+00:00, Temp: 3.1°C\n",
      "Time: 2024-11-30 18:00:00+00:00, Temp: 5.66°C\n",
      "Time: 2024-11-30 21:00:00+00:00, Temp: 5.49°C\n",
      "Time: 2024-12-01 00:00:00+00:00, Temp: 4.08°C\n",
      "Time: 2024-12-01 03:00:00+00:00, Temp: 2.64°C\n",
      "Time: 2024-12-01 06:00:00+00:00, Temp: 1.48°C\n",
      "Time: 2024-12-01 09:00:00+00:00, Temp: 0.91°C\n",
      "Time: 2024-12-01 12:00:00+00:00, Temp: 1.08°C\n"
     ]
    }
   ],
   "source": [
    "from pyowm.owm import OWM\n",
    "\n",
    "api_key = \"7d6163678299ac4e90ed1434d81ca873\"\n",
    "\n",
    "owm = OWM(api_key)\n",
    "mgr = owm.weather_manager()\n",
    "\n",
    "forecast = mgr.forecast_at_place(\"New York\", \"3h\").forecast\n",
    "\n",
    "for weather in forecast:\n",
    "    print(f\"Time: {weather.reference_time('iso')}, Temp: {weather.temperature('celsius')['temp']}°C\")"
   ]
  },
  {
   "cell_type": "markdown",
   "id": "7ab2b0cc-0d16-4da5-be3e-b8466faecca3",
   "metadata": {},
   "source": [
    "## use case 4: Convenience methods\n",
    "\n",
    "Wrappers often offer built-in methods to handle common kinds of tasks related to the APIs, reducing the need for manual calculations.\n",
    "\n",
    "for example converting units (e.g., temperature from Celsius to Fahrenheit) or working with more complex data requires manual conversion when using the raw API."
   ]
  },
  {
   "cell_type": "code",
   "execution_count": 10,
   "id": "c8e68dad-a503-49cf-9c1e-72e9ed1fab3d",
   "metadata": {},
   "outputs": [
    {
     "name": "stdout",
     "output_type": "stream",
     "text": [
      "Temperature in Celsius: 283.01°C, Fahrenheit: 541.418°F\n"
     ]
    }
   ],
   "source": [
    "city = 'London'\n",
    "url = f'http://api.openweathermap.org/data/2.5/weather?q={city}&appid={api_key}'\n",
    "\n",
    "response = requests.get(url)\n",
    "data = response.json()\n",
    "temperature_celsius = data['main']['temp']\n",
    "temperature_fahrenheit = (temperature_celsius * 9/5) + 32\n",
    "\n",
    "print(f\"Temperature in Celsius: {temperature_celsius}°C, Fahrenheit: {temperature_fahrenheit}°F\")"
   ]
  },
  {
   "cell_type": "markdown",
   "id": "9b05658c-e9cb-491d-8554-ab4d6dd56e1d",
   "metadata": {},
   "source": [
    "But the pyowm wrapper offers built-in methods to handle these kinds of tasks, reducing the need for manual calculations.\n",
    "Get the temperature both in Celcius and Farenheit using pyowm. Navigate the code recipes to figure out the inbuilt methods for this."
   ]
  },
  {
   "cell_type": "code",
   "execution_count": null,
   "id": "4695bb83-bc35-4c1b-b390-5ea2027984ef",
   "metadata": {},
   "outputs": [
    {
     "name": "stdout",
     "output_type": "stream",
     "text": [
      "Temperature in Celsius: 9.79°C\n",
      "Temperature in Fahrenheit: 49.62°F\n"
     ]
    }
   ],
   "source": [
    "from pyowm.owm import OWM\n",
    "\n",
    "owm = OWM(api_key)\n",
    "mgr = owm.weather_manager()\n",
    "\n",
    "observation = mgr.weather_at_place(\"London\")\n",
    "weather = observation.weather\n",
    "\n",
    "temperature_celsius = weather.temperature('celsius')['temp']\n",
    "temperature_fahrenheit = weather.temperature('fahrenheit')['temp']\n",
    "\n",
    "print(f\"Temperature in Celsius: {temperature_celsius}°C\")\n",
    "print(f\"Temperature in Fahrenheit: {temperature_fahrenheit}°F\")"
   ]
  }
 ],
 "metadata": {
  "kernelspec": {
   "display_name": "Python 3",
   "language": "python",
   "name": "python3"
  },
  "language_info": {
   "codemirror_mode": {
    "name": "ipython",
    "version": 3
   },
   "file_extension": ".py",
   "mimetype": "text/x-python",
   "name": "python",
   "nbconvert_exporter": "python",
   "pygments_lexer": "ipython3",
   "version": "3.12.7"
  }
 },
 "nbformat": 4,
 "nbformat_minor": 5
}
